{
 "cells": [
  {
   "cell_type": "code",
   "execution_count": 2,
   "id": "152c916c",
   "metadata": {},
   "outputs": [],
   "source": [
    "import os\n",
    "import pandas as pd\n",
    "from sqlalchemy import create_engine, text\n",
    "from dotenv import load_dotenv\n",
    "\n",
    "# Paso 1: Cargar variables de entorno\n",
    "load_dotenv()\n",
    "DB_PATH = os.getenv(\"DB_PATH\", \"./labaseuno.db\")  # Usar ruta correcta desde .env\n"
   ]
  },
  {
   "cell_type": "code",
   "execution_count": 3,
   "id": "d836506a",
   "metadata": {},
   "outputs": [
    {
     "name": "stdout",
     "output_type": "stream",
     "text": [
      "Conectado a la base de datos en: ./labaseuno.db\n"
     ]
    }
   ],
   "source": [
    "\n",
    "# Paso 2: Conectar a la base de datos SQLite\n",
    "engine = create_engine(f\"sqlite:///{DB_PATH}\")\n",
    "\n",
    "# Verificar que la base de datos está bien conectada\n",
    "print(f\"Conectado a la base de datos en: {DB_PATH}\")\n"
   ]
  },
  {
   "cell_type": "code",
   "execution_count": 4,
   "id": "19ca689a",
   "metadata": {},
   "outputs": [
    {
     "name": "stdout",
     "output_type": "stream",
     "text": [
      "Tablas 'publishers' y 'authors' creadas correctamente.\n"
     ]
    }
   ],
   "source": [
    "\n",
    "# Paso 3: Crear tablas si no existen\n",
    "with engine.connect() as connection:\n",
    "    connection.execute(text(\"\"\"\n",
    "    CREATE TABLE IF NOT EXISTS publishers (\n",
    "        publisher_id INTEGER PRIMARY KEY,\n",
    "        name TEXT NOT NULL\n",
    "    );\n",
    "    \"\"\"))\n",
    "\n",
    "    connection.execute(text(\"\"\"\n",
    "    CREATE TABLE IF NOT EXISTS authors (\n",
    "        author_id INTEGER PRIMARY KEY,\n",
    "        first_name TEXT NOT NULL,\n",
    "        middle_name TEXT NULL,\n",
    "        last_name TEXT NULL\n",
    "    );\n",
    "    \"\"\"))\n",
    "\n",
    "print(\"Tablas 'publishers' y 'authors' creadas correctamente.\")\n"
   ]
  },
  {
   "cell_type": "code",
   "execution_count": 5,
   "id": "c01aae0a",
   "metadata": {},
   "outputs": [
    {
     "name": "stdout",
     "output_type": "stream",
     "text": [
      "Datos insertados correctamente en las tablas.\n"
     ]
    }
   ],
   "source": [
    "\n",
    "# Paso 4: Insertar datos asegurando que se guarden correctamente\n",
    "publishers = [\n",
    "    (1, 'Editorial Santillana'),\n",
    "    (2, 'Grupo Planeta'),\n",
    "    (3, 'Siglo XXI Editores'),\n",
    "    (4, 'Alfaguara'),\n",
    "    (5, 'Editorial Norma'),\n",
    "    (6, 'Ediciones SM'),\n",
    "    (7, 'Fondo de Cultura Económica')\n",
    "]\n",
    "\n",
    "authors = [\n",
    "    (1, 'Gabriel', None, 'García Márquez'),\n",
    "    (2, 'Laura', None, 'Esquivel'),\n",
    "    (3, 'Mario', None, 'Vargas Llosa'),\n",
    "    (4, 'Isabel', None, 'Allende'),\n",
    "    (5, 'Octavio', None, 'Paz'),\n",
    "    (6, 'Jorge', 'Luis', 'Borges'),\n",
    "    (7, 'Julio', None, 'Cortázar'),\n",
    "    (8, 'Carlos', None, 'Fuentes')\n",
    "]\n",
    "\n",
    "with engine.begin() as connection:  # `begin()` asegura que los cambios sean permanentes\n",
    "    for pub in publishers:\n",
    "        connection.execute(text(\"INSERT OR IGNORE INTO publishers (publisher_id, name) VALUES (:id, :name)\"),\n",
    "                           {\"id\": pub[0], \"name\": pub[1]})\n",
    "\n",
    "    for author in authors:\n",
    "        connection.execute(text(\"INSERT OR IGNORE INTO authors (author_id, first_name, middle_name, last_name) VALUES (:id, :fn, :mn, :ln)\"),\n",
    "                           {\"id\": author[0], \"fn\": author[1], \"mn\": author[2], \"ln\": author[3]})\n",
    "\n",
    "print(\"Datos insertados correctamente en las tablas.\")\n"
   ]
  },
  {
   "cell_type": "code",
   "execution_count": 6,
   "id": "1a3d272b",
   "metadata": {},
   "outputs": [
    {
     "name": "stdout",
     "output_type": "stream",
     "text": [
      "\n",
      "Datos de publishers:\n",
      "   publisher_id                        name\n",
      "0             1        Editorial Santillana\n",
      "1             2               Grupo Planeta\n",
      "2             3          Siglo XXI Editores\n",
      "3             4                   Alfaguara\n",
      "4             5             Editorial Norma\n",
      "5             6                Ediciones SM\n",
      "6             7  Fondo de Cultura Económica\n",
      "\n",
      "Datos de authors:\n",
      "   author_id first_name middle_name       last_name\n",
      "0          1    Gabriel        None  García Márquez\n",
      "1          2      Laura        None        Esquivel\n",
      "2          3      Mario        None    Vargas Llosa\n",
      "3          4     Isabel        None         Allende\n",
      "4          5    Octavio        None             Paz\n",
      "5          6      Jorge        Luis          Borges\n",
      "6          7      Julio        None        Cortázar\n",
      "7          8     Carlos        None         Fuentes\n"
     ]
    }
   ],
   "source": [
    "\n",
    "# Paso 5: Consultar los datos con Pandas\n",
    "df_publishers = pd.read_sql(\"SELECT * FROM publishers;\", engine)\n",
    "df_authors = pd.read_sql(\"SELECT * FROM authors;\", engine)\n",
    "\n",
    "print(\"\\nDatos de publishers:\")\n",
    "print(df_publishers)\n",
    "\n",
    "print(\"\\nDatos de authors:\")\n",
    "print(df_authors)"
   ]
  }
 ],
 "metadata": {
  "kernelspec": {
   "display_name": "Python 3",
   "language": "python",
   "name": "python3"
  },
  "language_info": {
   "codemirror_mode": {
    "name": "ipython",
    "version": 3
   },
   "file_extension": ".py",
   "mimetype": "text/x-python",
   "name": "python",
   "nbconvert_exporter": "python",
   "pygments_lexer": "ipython3",
   "version": "3.12.10"
  }
 },
 "nbformat": 4,
 "nbformat_minor": 5
}
